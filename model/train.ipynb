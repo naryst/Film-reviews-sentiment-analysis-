{
 "cells": [
  {
   "cell_type": "code",
   "execution_count": 29,
   "outputs": [],
   "source": [
    "import torch\n",
    "import numpy as np\n",
    "from torch.utils.data import DataLoader, Dataset\n",
    "import torch.nn\n",
    "import torch.nn.functional as F\n",
    "import os\n",
    "import pandas as pd\n",
    "from sklearn.model_selection import train_test_split\n",
    "from transformers import DistilBertTokenizerFast\n",
    "from transformers import DistilBertModel, DistilBertConfig"
   ],
   "metadata": {
    "collapsed": false
   }
  },
  {
   "cell_type": "code",
   "execution_count": null,
   "outputs": [],
   "source": [
    "!wget https://ai.stanford.edu/~amaas/data/sentiment/aclImdb_v1.tar.gz\n",
    "!tar -xf aclImdb_v1.tar.gz"
   ],
   "metadata": {
    "collapsed": false
   }
  },
  {
   "cell_type": "code",
   "execution_count": 30,
   "outputs": [],
   "source": [
    "def generate_csv(data):\n",
    "    data_dir = 'aclImdb'\n",
    "    train_dir = data_dir + '/' + data\n",
    "    train_neg = train_dir + '/neg'\n",
    "    train_pos = train_dir + '/pos'\n",
    "    negative_train_data = []\n",
    "    for f_name in os.listdir(train_neg):\n",
    "        with open(train_neg + \"/\" + f_name) as f:\n",
    "            review = f.readlines()\n",
    "            assert len(review) == 1\n",
    "        negative_train_data.append(review[0])\n",
    "    positive_train_data = []\n",
    "    for f_name in os.listdir(train_pos):\n",
    "        with open(train_pos + \"/\" + f_name) as f:\n",
    "            review = f.readlines()\n",
    "            assert len(review) == 1\n",
    "        positive_train_data.append(review[0])\n",
    "    train_data = pd.DataFrame(data=positive_train_data, columns=['review'])\n",
    "    positives = [1 for _ in range(len(positive_train_data))]\n",
    "    train_data['sentiment'] = positives\n",
    "    train_neg = pd.DataFrame(data=negative_train_data, columns=['review'])\n",
    "    negatives = [0 for _ in range(len(negative_train_data))]\n",
    "    train_neg['sentiment'] = negatives\n",
    "    train_data = pd.concat([train_data, train_neg])\n",
    "    new_ind = pd.Index(range(len(negative_train_data) + len(positive_train_data)))\n",
    "    train_data = train_data.set_index(new_ind)\n",
    "    return train_data"
   ],
   "metadata": {
    "collapsed": false
   }
  },
  {
   "cell_type": "code",
   "execution_count": 31,
   "outputs": [],
   "source": [
    "train_df = generate_csv('train')\n",
    "test_df = generate_csv('test')"
   ],
   "metadata": {
    "collapsed": false
   }
  },
  {
   "cell_type": "code",
   "execution_count": 33,
   "outputs": [
    {
     "name": "stderr",
     "output_type": "stream",
     "text": [
      "/home/nikita/anaconda3/lib/python3.9/site-packages/bs4/__init__.py:435: MarkupResemblesLocatorWarning: The input looks more like a filename than markup. You may want to open this file and pass the filehandle into Beautiful Soup.\n",
      "  warnings.warn(\n"
     ]
    }
   ],
   "source": [
    "from bs4 import BeautifulSoup\n",
    "import re\n",
    "from nltk.corpus import stopwords\n",
    "import string\n",
    "\n",
    "stop = stopwords.words('english')\n",
    "punctuation = list(string.punctuation)\n",
    "stop += punctuation\n",
    "\n",
    "def strip_html(text):\n",
    "    soup = BeautifulSoup(text, \"html.parser\")\n",
    "    return soup.get_text()\n",
    "\n",
    "\n",
    "#Removing the square brackets\n",
    "def remove_between_square_brackets(text):\n",
    "    return re.sub('\\[[^]]*\\]', '', text)\n",
    "\n",
    "\n",
    "# Removing URL's\n",
    "def remove_between_square_brackets(text):\n",
    "    return re.sub(r'http\\S+', '', text)\n",
    "\n",
    "\n",
    "#Removing the stopwords from text\n",
    "def remove_stopwords(text):\n",
    "    final_text = []\n",
    "    for i in text.split():\n",
    "        if i.strip().lower() not in stop and i.strip().lower().isalpha():\n",
    "            final_text.append(i.strip().lower())\n",
    "    return \" \".join(final_text)\n",
    "\n",
    "\n",
    "#Removing the noisy text\n",
    "def denoise_text(text):\n",
    "    text = strip_html(text)\n",
    "    text = remove_between_square_brackets(text)\n",
    "    text = remove_stopwords(text)\n",
    "    return text\n",
    "\n",
    "\n",
    "#Apply function on review column\n",
    "train_df['review'] = train_df['review'].apply(denoise_text)\n",
    "test_df['review'] = test_df['review'].apply(denoise_text)"
   ],
   "metadata": {
    "collapsed": false
   }
  },
  {
   "cell_type": "code",
   "execution_count": 34,
   "outputs": [
    {
     "data": {
      "text/plain": "'zentropa much common third another film set among rubble postwar like much inventive camera innocent american gets emotionally involved woman really whose naivety striking contrast say third man zentropa bit disjointed perhaps presented making coherent would spoil movie unrelentingly one one never sees sun'"
     },
     "execution_count": 34,
     "metadata": {},
     "output_type": "execute_result"
    }
   ],
   "source": [
    "train_df.iloc[0]['review']"
   ],
   "metadata": {
    "collapsed": false
   }
  },
  {
   "cell_type": "code",
   "execution_count": 41,
   "outputs": [],
   "source": [
    "train_df = train_df.sample(frac=1).reset_index()\n",
    "test_df = test_df.sample(frac=1).reset_index()"
   ],
   "metadata": {
    "collapsed": false
   }
  },
  {
   "cell_type": "code",
   "execution_count": 42,
   "outputs": [],
   "source": [
    "test_df, val_df = train_test_split(test_df, test_size=0.2)"
   ],
   "metadata": {
    "collapsed": false
   }
  },
  {
   "cell_type": "code",
   "execution_count": 43,
   "outputs": [
    {
     "data": {
      "text/plain": "device(type='cuda')"
     },
     "execution_count": 43,
     "metadata": {},
     "output_type": "execute_result"
    }
   ],
   "source": [
    "device = torch.device('cuda') if torch.cuda.is_available() else torch.device('cpu')\n",
    "device"
   ],
   "metadata": {
    "collapsed": false
   }
  },
  {
   "cell_type": "code",
   "execution_count": 44,
   "outputs": [],
   "source": [
    "tokenizer = DistilBertTokenizerFast.from_pretrained('distilbert-base-uncased')"
   ],
   "metadata": {
    "collapsed": false
   }
  },
  {
   "cell_type": "code",
   "execution_count": 45,
   "outputs": [],
   "source": [
    "MAX_LENGTH = 256\n",
    "\n",
    "\n",
    "def batch_encode(tokenizer, texts, batch_size=16, max_length=MAX_LENGTH):\n",
    "    input_ids = []\n",
    "    attention_mask = []\n",
    "\n",
    "    for i in range(0, len(texts), batch_size):\n",
    "        batch = texts[i:i + batch_size]\n",
    "        inputs = tokenizer.batch_encode_plus(batch,\n",
    "                                             max_length=max_length,\n",
    "                                             padding='max_length',\n",
    "                                             truncation=True,\n",
    "                                             return_attention_mask=True,\n",
    "                                             return_token_type_ids=False\n",
    "                                             )\n",
    "        input_ids.extend(inputs['input_ids'])\n",
    "        attention_mask.extend(inputs['attention_mask'])\n",
    "\n",
    "    return torch.tensor(input_ids), torch.tensor(attention_mask)"
   ],
   "metadata": {
    "collapsed": false
   }
  },
  {
   "cell_type": "code",
   "execution_count": 46,
   "outputs": [],
   "source": [
    "X_train_ids, X_train_attn = batch_encode(tokenizer, train_df['review'].to_list())\n",
    "X_test_ids, X_test_attn = batch_encode(tokenizer, test_df['review'].to_list())\n",
    "X_val_ids, X_val_attn = batch_encode(tokenizer, val_df['review'].to_list())"
   ],
   "metadata": {
    "collapsed": false
   }
  },
  {
   "cell_type": "code",
   "execution_count": 47,
   "outputs": [],
   "source": [
    "y_train = torch.tensor(train_df['sentiment'].values)\n",
    "y_test = torch.tensor(test_df['sentiment'].values)\n",
    "y_val = torch.tensor(val_df['sentiment'].values)"
   ],
   "metadata": {
    "collapsed": false
   }
  },
  {
   "cell_type": "code",
   "execution_count": 48,
   "outputs": [
    {
     "name": "stderr",
     "output_type": "stream",
     "text": [
      "Some weights of the model checkpoint at distilbert-base-uncased were not used when initializing DistilBertModel: ['vocab_layer_norm.bias', 'vocab_layer_norm.weight', 'vocab_transform.weight', 'vocab_transform.bias', 'vocab_projector.bias', 'vocab_projector.weight']\n",
      "- This IS expected if you are initializing DistilBertModel from the checkpoint of a model trained on another task or with another architecture (e.g. initializing a BertForSequenceClassification model from a BertForPreTraining model).\n",
      "- This IS NOT expected if you are initializing DistilBertModel from the checkpoint of a model that you expect to be exactly identical (initializing a BertForSequenceClassification model from a BertForSequenceClassification model).\n"
     ]
    }
   ],
   "source": [
    "DISTILBERT_DROPOUT = 0.2\n",
    "DISTILBERT_ATT_DROPOUT = 0.2\n",
    "\n",
    "# Configure DistilBERT's initialization\n",
    "config = DistilBertConfig(dropout=DISTILBERT_DROPOUT,\n",
    "                          attention_dropout=DISTILBERT_ATT_DROPOUT,\n",
    "                          output_hidden_states=True)\n",
    "\n",
    "# The bare, pre-trained DistilBERT transformer model outputting raw hidden-states\n",
    "# and without any specific head on top.\n",
    "distilBERT = DistilBertModel.from_pretrained('distilbert-base-uncased', config=config).to(device)\n",
    "\n",
    "# Make DistilBERT layers untrainable\n",
    "for param in distilBERT.parameters():\n",
    "    param.requires_grad = False"
   ],
   "metadata": {
    "collapsed": false
   }
  },
  {
   "cell_type": "code",
   "execution_count": 49,
   "outputs": [],
   "source": [
    "import tqdm\n",
    "\n",
    "\n",
    "class TorchModel(torch.nn.Module):\n",
    "    def __init__(self, transformer):\n",
    "        super(TorchModel, self).__init__()\n",
    "        self.fc1 = torch.nn.Linear(768, 1)\n",
    "        self.transformer = transformer\n",
    "        self.sigmoid = torch.sigmoid\n",
    "\n",
    "    def forward(self, x):\n",
    "        ids = x[0]\n",
    "        attn = x[1]\n",
    "        last_hidden_state = self.transformer(ids, attention_mask=attn)[0]\n",
    "        cls_token = last_hidden_state[:, 0, :]\n",
    "        x = self.fc1(cls_token)\n",
    "        x = self.sigmoid(x)\n",
    "        return x\n",
    "\n",
    "\n",
    "torch_model = TorchModel(distilBERT).to(device)\n",
    "\n",
    "loss = torch.nn.BCELoss()\n",
    "learning_rate = 2e-5\n",
    "optimizer = torch.optim.Adam(torch_model.parameters(), lr=learning_rate)\n",
    "BATCH_SIZE = 16\n",
    "\n",
    "\n",
    "def train_epoch(model, optim, loss_function, x_ids, x_attn, y):\n",
    "    total_loss = 0\n",
    "    accurate_pred = 0\n",
    "    model.train()\n",
    "    for i in tqdm.tqdm(range(0, len(x_ids), BATCH_SIZE)):\n",
    "        ids = x_ids[i:i + BATCH_SIZE]\n",
    "        attn = x_attn[i:i + BATCH_SIZE]\n",
    "        y_batch = y[i:i + BATCH_SIZE]\n",
    "        y_batch = y_batch.view(-1, 1)\n",
    "        optim.zero_grad()\n",
    "        y_pred = model([ids, attn])\n",
    "        loss_val = loss_function(y_pred, y_batch.float())\n",
    "        loss_val.backward()\n",
    "        optim.step()\n",
    "        total_loss += loss_val.item()\n",
    "        accurate_pred += (y_pred.round() == y_batch.float()).sum().item()\n",
    "    return total_loss / len(x_ids), accurate_pred / len(x_ids)\n",
    "\n",
    "\n",
    "def val_epoch(model, loss_function, x_ids, x_attn, y):\n",
    "    total_loss = 0\n",
    "    accurate_pred = 0\n",
    "    model.eval()\n",
    "    for i in tqdm.tqdm(range(0, len(x_ids), BATCH_SIZE)):\n",
    "        ids = x_ids[i:i + BATCH_SIZE]\n",
    "        attn = x_attn[i:i + BATCH_SIZE]\n",
    "        y_batch = y[i:i + BATCH_SIZE]\n",
    "        y_batch = y_batch.view(-1, 1)\n",
    "        y_pred = model([ids, attn])\n",
    "        loss_val = loss_function(y_pred, y_batch.float())\n",
    "        total_loss += loss_val.item()\n",
    "        accurate_pred += (y_pred.round() == y_batch.float()).sum().item()\n",
    "    return total_loss / len(x_ids), accurate_pred / len(x_ids)"
   ],
   "metadata": {
    "collapsed": false
   }
  },
  {
   "cell_type": "code",
   "execution_count": 51,
   "outputs": [
    {
     "name": "stderr",
     "output_type": "stream",
     "text": [
      "100%|██████████| 1563/1563 [06:57<00:00,  3.75it/s]\n",
      "100%|██████████| 282/282 [01:13<00:00,  3.83it/s]\n"
     ]
    },
    {
     "name": "stdout",
     "output_type": "stream",
     "text": [
      "Epoch: 01\n",
      "\tTrain Loss: 0.042 | Train Acc: 62.12%\n",
      "\t Val. Loss: 0.041 |  Val. Acc: 69.42%\n"
     ]
    },
    {
     "name": "stderr",
     "output_type": "stream",
     "text": [
      "100%|██████████| 1563/1563 [06:57<00:00,  3.74it/s]\n",
      "100%|██████████| 282/282 [01:13<00:00,  3.82it/s]\n"
     ]
    },
    {
     "name": "stdout",
     "output_type": "stream",
     "text": [
      "Epoch: 02\n",
      "\tTrain Loss: 0.041 | Train Acc: 69.26%\n",
      "\t Val. Loss: 0.040 |  Val. Acc: 72.11%\n"
     ]
    },
    {
     "name": "stderr",
     "output_type": "stream",
     "text": [
      "100%|██████████| 1563/1563 [06:58<00:00,  3.74it/s]\n",
      "100%|██████████| 282/282 [01:13<00:00,  3.82it/s]\n"
     ]
    },
    {
     "name": "stdout",
     "output_type": "stream",
     "text": [
      "Epoch: 03\n",
      "\tTrain Loss: 0.040 | Train Acc: 71.29%\n",
      "\t Val. Loss: 0.039 |  Val. Acc: 73.64%\n"
     ]
    },
    {
     "name": "stderr",
     "output_type": "stream",
     "text": [
      "100%|██████████| 1563/1563 [06:58<00:00,  3.74it/s]\n",
      "100%|██████████| 282/282 [01:13<00:00,  3.82it/s]\n"
     ]
    },
    {
     "name": "stdout",
     "output_type": "stream",
     "text": [
      "Epoch: 04\n",
      "\tTrain Loss: 0.039 | Train Acc: 72.38%\n",
      "\t Val. Loss: 0.038 |  Val. Acc: 74.73%\n"
     ]
    },
    {
     "name": "stderr",
     "output_type": "stream",
     "text": [
      "100%|██████████| 1563/1563 [06:58<00:00,  3.74it/s]\n",
      "100%|██████████| 282/282 [01:14<00:00,  3.80it/s]\n"
     ]
    },
    {
     "name": "stdout",
     "output_type": "stream",
     "text": [
      "Epoch: 05\n",
      "\tTrain Loss: 0.038 | Train Acc: 72.86%\n",
      "\t Val. Loss: 0.037 |  Val. Acc: 75.40%\n"
     ]
    },
    {
     "name": "stderr",
     "output_type": "stream",
     "text": [
      "100%|██████████| 1563/1563 [07:02<00:00,  3.70it/s]\n",
      "100%|██████████| 282/282 [01:14<00:00,  3.76it/s]"
     ]
    },
    {
     "name": "stdout",
     "output_type": "stream",
     "text": [
      "Epoch: 06\n",
      "\tTrain Loss: 0.038 | Train Acc: 73.82%\n",
      "\t Val. Loss: 0.036 |  Val. Acc: 75.51%\n"
     ]
    },
    {
     "name": "stderr",
     "output_type": "stream",
     "text": [
      "\n"
     ]
    }
   ],
   "source": [
    "EPOCHS = 6\n",
    "for epoch in range(EPOCHS):\n",
    "    train_loss, train_acc = train_epoch(torch_model, optimizer, loss, X_train_ids.to(device), X_train_attn.to(device), y_train.to(device))\n",
    "    val_loss, val_acc = val_epoch(torch_model, loss, X_val_ids.to(device), X_val_attn.to(device), y_val.to(device))\n",
    "    print(f'Epoch: {epoch + 1:02}')\n",
    "    print(f'\\tTrain Loss: {train_loss:.3f} | Train Acc: {train_acc * 100:.2f}%')\n",
    "    print(f'\\t Val. Loss: {val_loss:.3f} |  Val. Acc: {val_acc * 100:.2f}%')"
   ],
   "metadata": {
    "collapsed": false
   }
  },
  {
   "cell_type": "code",
   "execution_count": 105,
   "outputs": [],
   "source": [
    "torch.save(torch_model.state_dict(), 'torch_model.pt')"
   ],
   "metadata": {
    "collapsed": false
   }
  },
  {
   "cell_type": "code",
   "execution_count": 106,
   "outputs": [
    {
     "data": {
      "text/plain": "tensor([[0.6587],\n        [0.4192]], device='cuda:0', grad_fn=<SigmoidBackward0>)"
     },
     "execution_count": 106,
     "metadata": {},
     "output_type": "execute_result"
    }
   ],
   "source": [
    "sample = ['I love this movie', 'I hate this movie']\n",
    "ids, attn, = batch_encode(tokenizer, sample)\n",
    "ids = ids.to(device)\n",
    "attn = ids.to(device)\n",
    "torch_model([ids, attn])\n",
    "# torch_model(sample)"
   ],
   "metadata": {
    "collapsed": false
   }
  },
  {
   "cell_type": "code",
   "execution_count": 61,
   "outputs": [],
   "source": [
    "def get_train_predictions(model, loss_function, x_ids, x_attn, y):\n",
    "    preds = []\n",
    "    model.eval()\n",
    "    with torch.no_grad():\n",
    "        for i in tqdm.tqdm(range(0, len(x_ids), BATCH_SIZE)):\n",
    "            ids = x_ids[i:i + BATCH_SIZE]\n",
    "            attn = x_attn[i:i + BATCH_SIZE]\n",
    "            y_batch = y[i:i + BATCH_SIZE]\n",
    "            y_batch = y_batch.view(-1, 1)\n",
    "            y_pred = model([ids, attn])\n",
    "            preds.append(y_pred.to('cpu').detach().numpy())\n",
    "    return preds"
   ],
   "metadata": {
    "collapsed": false
   }
  },
  {
   "cell_type": "code",
   "execution_count": 62,
   "outputs": [],
   "source": [
    "X_train_attn = X_train_attn.to(device)\n",
    "X_train_ids = X_train_ids.to(device)\n",
    "y_train = y_train.to(device)"
   ],
   "metadata": {
    "collapsed": false
   }
  },
  {
   "cell_type": "code",
   "execution_count": 63,
   "outputs": [
    {
     "name": "stderr",
     "output_type": "stream",
     "text": [
      "100%|██████████| 1563/1563 [06:54<00:00,  3.77it/s]\n"
     ]
    }
   ],
   "source": [
    "preds = get_train_predictions(torch_model, loss, X_train_ids, X_train_attn, y_train)"
   ],
   "metadata": {
    "collapsed": false
   }
  },
  {
   "cell_type": "code",
   "execution_count": 64,
   "outputs": [],
   "source": [
    "preds = np.concatenate(preds)"
   ],
   "metadata": {
    "collapsed": false
   }
  },
  {
   "cell_type": "code",
   "execution_count": 65,
   "outputs": [
    {
     "data": {
      "text/plain": "<AxesSubplot:ylabel='Count'>"
     },
     "execution_count": 65,
     "metadata": {},
     "output_type": "execute_result"
    },
    {
     "data": {
      "text/plain": "<Figure size 640x480 with 1 Axes>",
      "image/png": "[encoded data removed]"
     },
     "metadata": {},
     "output_type": "display_data"
    }
   ],
   "source": [
    "import seaborn as sns\n",
    "\n",
    "sns.histplot(preds)"
   ],
   "metadata": {
    "collapsed": false
   }
  },
  {
   "cell_type": "code",
   "execution_count": 69,
   "outputs": [
    {
     "name": "stdout",
     "output_type": "stream",
     "text": [
      "mean: 0.47811675\n",
      "min: 0.13989343\n",
      "max: 0.8898689\n"
     ]
    }
   ],
   "source": [
    "print('mean:', preds.mean())\n",
    "print('min:', preds.min())\n",
    "print('max:', preds.max())"
   ],
   "metadata": {
    "collapsed": false
   }
  },
  {
   "cell_type": "code",
   "execution_count": 70,
   "outputs": [
    {
     "name": "stderr",
     "output_type": "stream",
     "text": [
      "100%|██████████| 1125/1125 [04:53<00:00,  3.83it/s]\n"
     ]
    },
    {
     "data": {
      "text/plain": "(0.03630903578301271, 0.7486111111111111)"
     },
     "execution_count": 70,
     "metadata": {},
     "output_type": "execute_result"
    }
   ],
   "source": [
    "val_epoch(torch_model, loss, X_test_ids.to(device), X_test_attn.to(device), y_test.to(device))"
   ],
   "metadata": {
    "collapsed": false
   }
  },
  {
   "cell_type": "code",
   "execution_count": 90,
   "outputs": [],
   "source": [
    "sorted_preds = np.sort(preds, axis=None)\n",
    "preds_10 = int(len(sorted_preds) * 0.1)"
   ],
   "metadata": {
    "collapsed": false
   }
  },
  {
   "cell_type": "code",
   "execution_count": 92,
   "outputs": [
    {
     "data": {
      "text/plain": "[<matplotlib.lines.Line2D at 0x7f61965829d0>]"
     },
     "execution_count": 92,
     "metadata": {},
     "output_type": "execute_result"
    },
    {
     "data": {
      "text/plain": "<Figure size 640x480 with 1 Axes>",
      "image/png": "[encoded data removed]"
     },
     "metadata": {},
     "output_type": "display_data"
    }
   ],
   "source": [
    "from matplotlib import pyplot as plt\n",
    "plt.plot(sorted_preds)"
   ],
   "metadata": {
    "collapsed": false
   }
  },
  {
   "cell_type": "code",
   "execution_count": 93,
   "outputs": [],
   "source": [
    "score_quantile = []\n",
    "for i in range(1, 10):\n",
    "    score_quantile.append(sorted_preds[preds_10 * i])\n",
    "\n",
    "def get_score(pred):\n",
    "    for i, score in enumerate(score_quantile):\n",
    "        if pred < score:\n",
    "            return i + 1\n",
    "    return 10"
   ],
   "metadata": {
    "collapsed": false
   }
  },
  {
   "cell_type": "code",
   "execution_count": 94,
   "outputs": [
    {
     "data": {
      "text/plain": "[0.32044193,\n 0.3692736,\n 0.40665343,\n 0.44061545,\n 0.4739672,\n 0.5081665,\n 0.5448841,\n 0.5870045,\n 0.6409643]"
     },
     "execution_count": 94,
     "metadata": {},
     "output_type": "execute_result"
    }
   ],
   "source": [
    "score_quantile"
   ],
   "metadata": {
    "collapsed": false
   }
  },
  {
   "cell_type": "code",
   "execution_count": 104,
   "outputs": [
    {
     "name": "stdout",
     "output_type": "stream",
     "text": [
      "0.39627495408058167\n"
     ]
    },
    {
     "data": {
      "text/plain": "3"
     },
     "execution_count": 104,
     "metadata": {},
     "output_type": "execute_result"
    }
   ],
   "source": [
    "sample = ['']\n",
    "ids, attn, = batch_encode(tokenizer, sample)\n",
    "ids = ids.to(device)\n",
    "attn = ids.to(device)\n",
    "res = torch_model([ids, attn])\n",
    "print(res.item())\n",
    "get_score(res.item())"
   ],
   "metadata": {
    "collapsed": false
   }
  }
 ],
 "metadata": {
  "kernelspec": {
   "display_name": "Python 3",
   "language": "python",
   "name": "python3"
  },
  "language_info": {
   "codemirror_mode": {
    "name": "ipython",
    "version": 2
   },
   "file_extension": ".py",
   "mimetype": "text/x-python",
   "name": "python",
   "nbconvert_exporter": "python",
   "pygments_lexer": "ipython2",
   "version": "2.7.6"
  }
 },
 "nbformat": 4,
 "nbformat_minor": 0
}
